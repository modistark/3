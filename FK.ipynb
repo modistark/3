{
 "cells": [
  {
   "cell_type": "code",
   "execution_count": 2,
   "id": "eeda3b1c",
   "metadata": {},
   "outputs": [],
   "source": [
    "class Item:\n",
    "\n",
    "  def __init__(self, profit, weight):\n",
    "    self.profit = profit\n",
    "    self.weight = weight\n",
    "  \n",
    "def fractionalKnapsack(W,arr):\n",
    "    #sorting array on basis of ratio\n",
    "    arr.sort(key = lambda x:(x.profit/x.weight), reverse = True)\n",
    "    totalProfit = 0.0   #final result\n",
    "\n",
    "    for item in arr:\n",
    "      #if adding item won't overrflow, add it completely\n",
    "      if item.weight <= W:\n",
    "        W = W - item.weight\n",
    "        totalProfit = totalProfit + item.profit\n",
    "      else:\n",
    "        totalProfit = totalProfit + item.profit * (W / item.weight)\n",
    "        break\n",
    "\n",
    "    return totalProfit  "
   ]
  },
  {
   "cell_type": "code",
   "execution_count": 3,
   "id": "17f63399",
   "metadata": {},
   "outputs": [
    {
     "name": "stdout",
     "output_type": "stream",
     "text": [
      "Maximum profit we can obtain = 580.0\n"
     ]
    }
   ],
   "source": [
    "#driver code\n",
    "if __name__ == \"__main__\":\n",
    "  W = 50\n",
    "  arr  = [Item(60,10), Item(100,2), Item(120,30), Item(300,1)]\n",
    "  max_value = fractionalKnapsack(W,arr)\n",
    "  print('Maximum profit we can obtain = {}'.format(max_value))"
   ]
  },
  {
   "cell_type": "code",
   "execution_count": null,
   "id": "29b6ca26",
   "metadata": {},
   "outputs": [],
   "source": []
  }
 ],
 "metadata": {
  "kernelspec": {
   "display_name": "Python 3 (ipykernel)",
   "language": "python",
   "name": "python3"
  },
  "language_info": {
   "codemirror_mode": {
    "name": "ipython",
    "version": 3
   },
   "file_extension": ".py",
   "mimetype": "text/x-python",
   "name": "python",
   "nbconvert_exporter": "python",
   "pygments_lexer": "ipython3",
   "version": "3.10.6"
  }
 },
 "nbformat": 4,
 "nbformat_minor": 5
}
