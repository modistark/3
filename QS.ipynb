{
  "nbformat": 4,
  "nbformat_minor": 0,
  "metadata": {
    "colab": {
      "provenance": []
    },
    "kernelspec": {
      "name": "python3",
      "display_name": "Python 3"
    },
    "language_info": {
      "name": "python"
    }
  },
  "cells": [
    {
      "cell_type": "code",
      "execution_count": 1,
      "metadata": {
        "colab": {
          "base_uri": "https://localhost:8080/"
        },
        "id": "aFjHTq0EEeA2",
        "outputId": "edbf9fcf-df06-4571-a24f-f7f75c443a33"
      },
      "outputs": [
        {
          "output_type": "stream",
          "name": "stdout",
          "text": [
            "Unsorted Array\n",
            "[1, 7, 4, 1, 10, 9, -2]\n",
            "Sorted Array in Ascending Order:\n",
            "[-2, 1, 1, 4, 7, 9, 10]\n"
          ]
        }
      ],
      "source": [
        "# Function to find the partition position\n",
        "def partition(array, low, high):\n",
        " \n",
        "    # choose the rightmost element as pivot\n",
        "    pivot = array[high]\n",
        " \n",
        "    # pointer for greater element\n",
        "    i = low - 1\n",
        " \n",
        "    # traverse through all elements\n",
        "    # compare each element with pivot\n",
        "    for j in range(low, high):\n",
        "        if array[j] <= pivot:\n",
        " \n",
        "            # If element smaller than pivot is found\n",
        "            # swap it with the greater element pointed by i\n",
        "            i = i + 1\n",
        " \n",
        "            # Swapping element at i with element at j\n",
        "            (array[i], array[j]) = (array[j], array[i])\n",
        " \n",
        "    # Swap the pivot element with the greater element specified by i\n",
        "    (array[i + 1], array[high]) = (array[high], array[i + 1])\n",
        " \n",
        "    # Return the position from where partition is done\n",
        "    return i + 1\n",
        " \n",
        "# function to perform quicksort\n",
        " \n",
        " \n",
        "def quickSort(array, low, high):\n",
        "    if low < high:\n",
        " \n",
        "        # Find pivot element such that\n",
        "        # element smaller than pivot are on the left\n",
        "        # element greater than pivot are on the right\n",
        "        pi = partition(array, low, high)\n",
        " \n",
        "        # Recursive call on the left of pivot\n",
        "        quickSort(array, low, pi - 1)\n",
        " \n",
        "        # Recursive call on the right of pivot\n",
        "        quickSort(array, pi + 1, high)\n",
        " \n",
        " \n",
        "data = [1, 7, 4, 1, 10, 9, -2]\n",
        "print(\"Unsorted Array\")\n",
        "print(data)\n",
        " \n",
        "size = len(data)\n",
        " \n",
        "quickSort(data, 0, size - 1)\n",
        " \n",
        "print('Sorted Array in Ascending Order:')\n",
        "print(data)"
      ]
    }
  ]
}