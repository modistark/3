{
  "nbformat": 4,
  "nbformat_minor": 0,
  "metadata": {
    "colab": {
      "provenance": []
    },
    "kernelspec": {
      "name": "python3",
      "display_name": "Python 3"
    },
    "language_info": {
      "name": "python"
    }
  },
  "cells": [
    {
      "cell_type": "code",
      "execution_count": null,
      "metadata": {
        "colab": {
          "base_uri": "https://localhost:8080/"
        },
        "id": "l6UMuuz6ShY4",
        "outputId": "ae248b17-a909-4b70-b537-56b5b000431e"
      },
      "outputs": [
        {
          "output_type": "stream",
          "name": "stdout",
          "text": [
            "350\n"
          ]
        }
      ],
      "source": [
        "def knapsack(W,wt,profit,n):\n",
        "  K = [[0 for x in range(W+1)] for x in range (n+1)]\n",
        "\n",
        "  for i in range(n+1):\n",
        "    for w in range(W+1):\n",
        "      if i==0 or w==0:\n",
        "        K[i][w]==0\n",
        "      elif wt[i-1] <= w:\n",
        "        K[i][w] = max(profit[i-1]+ K[i-1][w-wt[i-1]], K[i-1][w])\n",
        "      else:\n",
        "        K[i][w] = K[i-1][w]\n",
        "  return K[n][W]\n",
        "\n",
        "profit = [50,100,150,200]\n",
        "wt = [8,16,32,40]\n",
        "W = 64\n",
        "n = len(profit)\n",
        "\n",
        "print(knapsack(W, wt, profit, n))"
      ]
    }
  ]
}